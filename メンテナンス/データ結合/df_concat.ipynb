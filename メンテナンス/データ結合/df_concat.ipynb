{
 "cells": [
  {
   "cell_type": "code",
   "execution_count": 1,
   "metadata": {},
   "outputs": [],
   "source": [
    "import pandas as pd\n",
    "import glob"
   ]
  },
  {
   "cell_type": "code",
   "execution_count": 7,
   "metadata": {},
   "outputs": [
    {
     "data": {
      "text/plain": [
       "['CSVfiles\\\\202403-05調製データ.csv', 'CSVfiles\\\\202406調製データ.csv']"
      ]
     },
     "execution_count": 7,
     "metadata": {},
     "output_type": "execute_result"
    }
   ],
   "source": [
    "dir_path = \"CSVfiles\\\\\"\n",
    "files = glob.glob(dir_path + '*.csv')\n",
    "files"
   ]
  },
  {
   "cell_type": "code",
   "execution_count": 8,
   "metadata": {},
   "outputs": [],
   "source": [
    "df1 = pd.read_csv(files[0], encoding='cp932')\n",
    "for i in range(1, len(files)):\n",
    "    dfc = pd.read_csv(files[i], encoding='cp932')\n",
    "    df = pd.concat([df1, dfc])"
   ]
  },
  {
   "cell_type": "code",
   "execution_count": 9,
   "metadata": {},
   "outputs": [
    {
     "data": {
      "text/html": [
       "<div>\n",
       "<style scoped>\n",
       "    .dataframe tbody tr th:only-of-type {\n",
       "        vertical-align: middle;\n",
       "    }\n",
       "\n",
       "    .dataframe tbody tr th {\n",
       "        vertical-align: top;\n",
       "    }\n",
       "\n",
       "    .dataframe thead th {\n",
       "        text-align: right;\n",
       "    }\n",
       "</style>\n",
       "<table border=\"1\" class=\"dataframe\">\n",
       "  <thead>\n",
       "    <tr style=\"text-align: right;\">\n",
       "      <th></th>\n",
       "      <th>実施日</th>\n",
       "      <th>入外</th>\n",
       "      <th>科名</th>\n",
       "      <th>病棟</th>\n",
       "      <th>オーダー番号</th>\n",
       "      <th>件数</th>\n",
       "      <th>本数計</th>\n",
       "      <th>薬品本数</th>\n",
       "      <th>薬品コード</th>\n",
       "      <th>ホストコード</th>\n",
       "      <th>...</th>\n",
       "      <th>調製時間</th>\n",
       "      <th>保留開始</th>\n",
       "      <th>保留終了</th>\n",
       "      <th>保留時間</th>\n",
       "      <th>保留合計</th>\n",
       "      <th>調製者</th>\n",
       "      <th>調製日</th>\n",
       "      <th>最終鑑査者</th>\n",
       "      <th>レジメン名称</th>\n",
       "      <th>秤量モード</th>\n",
       "    </tr>\n",
       "  </thead>\n",
       "  <tbody>\n",
       "    <tr>\n",
       "      <th>0</th>\n",
       "      <td>2024/03/01</td>\n",
       "      <td>外来</td>\n",
       "      <td>血液・腫瘍内科</td>\n",
       "      <td>NaN</td>\n",
       "      <td>59732382-1</td>\n",
       "      <td>2</td>\n",
       "      <td>0.6933</td>\n",
       "      <td>0.6333</td>\n",
       "      <td>I54752</td>\n",
       "      <td>I54752</td>\n",
       "      <td>...</td>\n",
       "      <td>0:04:20</td>\n",
       "      <td>NaN</td>\n",
       "      <td>NaN</td>\n",
       "      <td>NaN</td>\n",
       "      <td>NaN</td>\n",
       "      <td>都築 奈々夏</td>\n",
       "      <td>2024/03/01</td>\n",
       "      <td>谷 江梨奈</td>\n",
       "      <td>NaN</td>\n",
       "      <td>個別秤量モード</td>\n",
       "    </tr>\n",
       "    <tr>\n",
       "      <th>1</th>\n",
       "      <td>2024/03/01</td>\n",
       "      <td>外来</td>\n",
       "      <td>血液・腫瘍内科</td>\n",
       "      <td>NaN</td>\n",
       "      <td>59732382-1</td>\n",
       "      <td>2</td>\n",
       "      <td>0.6933</td>\n",
       "      <td>0.0600</td>\n",
       "      <td>I48840</td>\n",
       "      <td>I48840</td>\n",
       "      <td>...</td>\n",
       "      <td>0:04:20</td>\n",
       "      <td>NaN</td>\n",
       "      <td>NaN</td>\n",
       "      <td>NaN</td>\n",
       "      <td>NaN</td>\n",
       "      <td>都築 奈々夏</td>\n",
       "      <td>2024/03/01</td>\n",
       "      <td>谷 江梨奈</td>\n",
       "      <td>NaN</td>\n",
       "      <td>個別秤量モード</td>\n",
       "    </tr>\n",
       "    <tr>\n",
       "      <th>2</th>\n",
       "      <td>2024/03/01</td>\n",
       "      <td>入院</td>\n",
       "      <td>血液・腫瘍内科</td>\n",
       "      <td>５階南病棟</td>\n",
       "      <td>59849553-1</td>\n",
       "      <td>2</td>\n",
       "      <td>3.8500</td>\n",
       "      <td>0.8500</td>\n",
       "      <td>I46615</td>\n",
       "      <td>I46615</td>\n",
       "      <td>...</td>\n",
       "      <td>0:13:35</td>\n",
       "      <td>08:45:44</td>\n",
       "      <td>08:49:22</td>\n",
       "      <td>0:03:38</td>\n",
       "      <td>0:12:49</td>\n",
       "      <td>都築 奈々夏</td>\n",
       "      <td>2024/03/01</td>\n",
       "      <td>志賀 有雅</td>\n",
       "      <td>NaN</td>\n",
       "      <td>個別抜取モード</td>\n",
       "    </tr>\n",
       "    <tr>\n",
       "      <th>3</th>\n",
       "      <td>2024/03/01</td>\n",
       "      <td>入院</td>\n",
       "      <td>血液・腫瘍内科</td>\n",
       "      <td>５階南病棟</td>\n",
       "      <td>59849553-1</td>\n",
       "      <td>2</td>\n",
       "      <td>3.8500</td>\n",
       "      <td>3.0000</td>\n",
       "      <td>I45781</td>\n",
       "      <td>I45781</td>\n",
       "      <td>...</td>\n",
       "      <td>0:13:35</td>\n",
       "      <td>08:49:05</td>\n",
       "      <td>08:58:16</td>\n",
       "      <td>0:09:11</td>\n",
       "      <td>0:12:49</td>\n",
       "      <td>都築 奈々夏</td>\n",
       "      <td>2024/03/01</td>\n",
       "      <td>志賀 有雅</td>\n",
       "      <td>NaN</td>\n",
       "      <td>個別抜取モード</td>\n",
       "    </tr>\n",
       "    <tr>\n",
       "      <th>4</th>\n",
       "      <td>2024/03/01</td>\n",
       "      <td>入院</td>\n",
       "      <td>血液・腫瘍内科</td>\n",
       "      <td>５階南病棟</td>\n",
       "      <td>59849554-1</td>\n",
       "      <td>2</td>\n",
       "      <td>2.7000</td>\n",
       "      <td>1.0000</td>\n",
       "      <td>I46600</td>\n",
       "      <td>I46600</td>\n",
       "      <td>...</td>\n",
       "      <td>0:02:57</td>\n",
       "      <td>NaN</td>\n",
       "      <td>NaN</td>\n",
       "      <td>NaN</td>\n",
       "      <td>NaN</td>\n",
       "      <td>都築 奈々夏</td>\n",
       "      <td>2024/03/01</td>\n",
       "      <td>志賀 有雅</td>\n",
       "      <td>NaN</td>\n",
       "      <td>シリンジ抜取モード</td>\n",
       "    </tr>\n",
       "  </tbody>\n",
       "</table>\n",
       "<p>5 rows × 24 columns</p>\n",
       "</div>"
      ],
      "text/plain": [
       "          実施日  入外       科名     病棟      オーダー番号  件数     本数計    薬品本数   薬品コード  \\\n",
       "0  2024/03/01  外来  血液・腫瘍内科    NaN  59732382-1   2  0.6933  0.6333  I54752   \n",
       "1  2024/03/01  外来  血液・腫瘍内科    NaN  59732382-1   2  0.6933  0.0600  I48840   \n",
       "2  2024/03/01  入院  血液・腫瘍内科  ５階南病棟  59849553-1   2  3.8500  0.8500  I46615   \n",
       "3  2024/03/01  入院  血液・腫瘍内科  ５階南病棟  59849553-1   2  3.8500  3.0000  I45781   \n",
       "4  2024/03/01  入院  血液・腫瘍内科  ５階南病棟  59849554-1   2  2.7000  1.0000  I46600   \n",
       "\n",
       "   ホストコード  ...     調製時間      保留開始      保留終了     保留時間     保留合計     調製者  \\\n",
       "0  I54752  ...  0:04:20       NaN       NaN      NaN      NaN  都築 奈々夏   \n",
       "1  I48840  ...  0:04:20       NaN       NaN      NaN      NaN  都築 奈々夏   \n",
       "2  I46615  ...  0:13:35  08:45:44  08:49:22  0:03:38  0:12:49  都築 奈々夏   \n",
       "3  I45781  ...  0:13:35  08:49:05  08:58:16  0:09:11  0:12:49  都築 奈々夏   \n",
       "4  I46600  ...  0:02:57       NaN       NaN      NaN      NaN  都築 奈々夏   \n",
       "\n",
       "          調製日  最終鑑査者 レジメン名称      秤量モード  \n",
       "0  2024/03/01  谷 江梨奈    NaN    個別秤量モード  \n",
       "1  2024/03/01  谷 江梨奈    NaN    個別秤量モード  \n",
       "2  2024/03/01  志賀 有雅    NaN    個別抜取モード  \n",
       "3  2024/03/01  志賀 有雅    NaN    個別抜取モード  \n",
       "4  2024/03/01  志賀 有雅    NaN  シリンジ抜取モード  \n",
       "\n",
       "[5 rows x 24 columns]"
      ]
     },
     "execution_count": 9,
     "metadata": {},
     "output_type": "execute_result"
    }
   ],
   "source": [
    "df.head()"
   ]
  },
  {
   "cell_type": "code",
   "execution_count": 10,
   "metadata": {},
   "outputs": [],
   "source": [
    "df.to_excel('AddDis調製rawデータ.xlsx', index=False)"
   ]
  },
  {
   "cell_type": "code",
   "execution_count": 11,
   "metadata": {},
   "outputs": [
    {
     "data": {
      "text/plain": [
       "Index(['実施日', '入外', '科名', '病棟', 'オーダー番号', '件数', '本数計', '薬品本数', '薬品コード',\n",
       "       'ホストコード', '薬品名', '受付時間', '調製開始', '調製終了', '調製時間', '保留開始', '保留終了', '保留時間',\n",
       "       '保留合計', '調製者', '調製日', '最終鑑査者', 'レジメン名称', '秤量モード'],\n",
       "      dtype='object')"
      ]
     },
     "execution_count": 11,
     "metadata": {},
     "output_type": "execute_result"
    }
   ],
   "source": [
    "df.columns"
   ]
  },
  {
   "cell_type": "code",
   "execution_count": null,
   "metadata": {},
   "outputs": [],
   "source": []
  }
 ],
 "metadata": {
  "kernelspec": {
   "display_name": "Python 3",
   "language": "python",
   "name": "python3"
  },
  "language_info": {
   "codemirror_mode": {
    "name": "ipython",
    "version": 3
   },
   "file_extension": ".py",
   "mimetype": "text/x-python",
   "name": "python",
   "nbconvert_exporter": "python",
   "pygments_lexer": "ipython3",
   "version": "3.10.2"
  }
 },
 "nbformat": 4,
 "nbformat_minor": 2
}
