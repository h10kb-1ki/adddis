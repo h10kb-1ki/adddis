{
 "cells": [
  {
   "cell_type": "code",
   "execution_count": 2,
   "metadata": {},
   "outputs": [],
   "source": [
    "import pandas as pd\n",
    "import datetime\n",
    "import numpy as np\n",
    "import altair as alt"
   ]
  },
  {
   "cell_type": "markdown",
   "metadata": {},
   "source": [
    "データ量が多くなると動作が重くなるため、整形済みデータをアップして負荷を減らす  \n",
    "→ dfをAddDis調製データ.xlsxとしてアップ"
   ]
  },
  {
   "cell_type": "code",
   "execution_count": 6,
   "metadata": {},
   "outputs": [
    {
     "name": "stdout",
     "output_type": "stream",
     "text": [
      "薬品マスタ（krebs・除外）の修正は不要です\n",
      "薬剤師マスタの修正は不要です\n"
     ]
    }
   ],
   "source": [
    "# マスタ修正の必要性を確認\n",
    "rawData = 'AddDis調製rawデータ.xlsx'\n",
    "mst = 'C:\\\\Users\\\\hmill\\\\OneDrive\\\\デスクトップ\\\\sample_data\\\\データの可視化\\\\化療調製_AddDisデータ分析\\\\mst_data.xlsx'\n",
    "df = pd.read_excel(rawData)\n",
    "krebs = pd.read_excel(mst, sheet_name='krebs')\n",
    "krebs_cds = krebs['薬品コード'].to_list()\n",
    "ex = pd.read_excel(mst, sheet_name='exclusion')\n",
    "exclusion = ex['薬品コード'].to_list()\n",
    "ph = pd.read_excel(mst, sheet_name='ph')\n",
    "ph_dict = {}\n",
    "for i in range(len(ph)):\n",
    "    key = ph.iloc[i, 0]\n",
    "    value = ph.iloc[i, 1]\n",
    "    ph_dict[f'{key}'] = value\n",
    "ph_list = ph['調製者'].to_list()\n",
    "\n",
    "df_check = df[['薬品コード', '薬品名', '調製者']]\n",
    "df_drugs = df_check.query('薬品コード not in @krebs_cds')\n",
    "df_drugs = df_drugs.query('薬品コード not in @exclusion')\n",
    "\n",
    "if len(df_drugs) == 0:\n",
    "  print('薬品マスタ（krebs・除外）の修正は不要です')\n",
    "else:\n",
    "  df_drugs.to_excel('mstメンテナンス\\\\薬品マスタ追加リスト.xlsx', index=False)\n",
    "  print('薬品マスタ（krebs・除外）への追加リストを出力しました')\n",
    "\n",
    "df_ph = df_check.query('調製者 not in @ph_list')\n",
    "if len(df_ph) == 0:\n",
    "  print('薬剤師マスタの修正は不要です')\n",
    "else:\n",
    "  df_ph.to_excel(f'mstメンテナンス\\\\薬剤師マスタ追加リスト.xlsx', index=False)\n",
    "  print('薬剤師マスタへの追加リストを出力しました')"
   ]
  },
  {
   "cell_type": "code",
   "execution_count": 7,
   "metadata": {},
   "outputs": [
    {
     "name": "stderr",
     "output_type": "stream",
     "text": [
      "C:\\Users\\hmill\\AppData\\Local\\Temp\\ipykernel_11384\\3298755662.py:35: SettingWithCopyWarning: \n",
      "A value is trying to be set on a copy of a slice from a DataFrame\n",
      "\n",
      "See the caveats in the documentation: https://pandas.pydata.org/pandas-docs/stable/user_guide/indexing.html#returning-a-view-versus-a-copy\n",
      "  df.sort_values('オーダー番号', ascending=False, inplace=True)  #同オーダー番号の最大値を採用\n",
      "C:\\Users\\hmill\\AppData\\Local\\Temp\\ipykernel_11384\\3298755662.py:36: SettingWithCopyWarning: \n",
      "A value is trying to be set on a copy of a slice from a DataFrame\n",
      "\n",
      "See the caveats in the documentation: https://pandas.pydata.org/pandas-docs/stable/user_guide/indexing.html#returning-a-view-versus-a-copy\n",
      "  df.drop_duplicates(subset='オーダー番号', keep='first', inplace=True)\n"
     ]
    }
   ],
   "source": [
    "# str日付をdatetimeに変換\n",
    "df['実施日'] = pd.to_datetime(df['実施日'])\n",
    "for i in range(len(df)):\n",
    "    dt = df.loc[i, '実施日']\n",
    "    h1, m1, s1 = df.loc[i, '調製開始'].split(':')\n",
    "    df.loc[i, '調製開始'] = dt + datetime.timedelta(hours=int(h1), minutes=int(m1), seconds=int(s1))\n",
    "    h2, m2, s2 = df.loc[i, '調製時間'].split(':')\n",
    "    df.loc[i, '調製時間'] = dt + datetime.timedelta(minutes=int(m2), seconds=int(s2))\n",
    "\n",
    "# 不要な行・列を削除  \n",
    "df1 = df.query('薬品コード != @exclusion')\n",
    "df1 = df1[['実施日', '入外', '科名', '病棟', 'オーダー番号', '調製者', '薬品本数', '薬品コード', '薬品名', '調製開始', '調製時間', '保留時間',]]\n",
    "df1.sort_values('オーダー番号', ascending=True, inplace=True)\n",
    "\n",
    "#オーダ番号がないレコードは削除\n",
    "df1.dropna(subset='オーダー番号', inplace=True)\n",
    "df1 = pd.merge(df1, krebs, how='inner')\n",
    "\n",
    "# オーダー番号と用量（合計）の紐づけ\n",
    "df1['mg'] = df1['薬品本数'] * df1['contain']\n",
    "\n",
    "dose = df1.pivot_table(index='オーダー番号', values='mg', aggfunc='sum')\n",
    "dose.reset_index(inplace=True)\n",
    "\n",
    "# 調製時間の算出\n",
    "prep_times = []\n",
    "for i in range(len(df1)):\n",
    "    tdelta = df1.loc[i, '調製時間'] - df1.loc[i, '実施日']\n",
    "    sec = tdelta.total_seconds()  #秒に換算\n",
    "    prep_times.append(sec/60)\n",
    "df1['prep_time'] = prep_times\n",
    "df = df1[['実施日', '入外', '科名', '病棟', 'オーダー番号', '薬品本数', '薬品コード', '薬品名', '調製開始', 'stem', 'contain', 'prep_time', \n",
    "          '調製者'\n",
    "          ]]\n",
    "df.sort_values('オーダー番号', ascending=False, inplace=True)  #同オーダー番号の最大値を採用\n",
    "df.drop_duplicates(subset='オーダー番号', keep='first', inplace=True)\n",
    "df = pd.merge(df, dose, how='outer')\n",
    "\n",
    "hours = []\n",
    "for i in range(len(df)):\n",
    "  hour = df.loc[i, '調製開始'].strftime('%H時')\n",
    "  hours.append(hour)\n",
    "df['hour'] = hours\n",
    "\n",
    "wd = []\n",
    "for i in range(len(df)):\n",
    "  weekday = df.loc[i, '実施日'].strftime('%a')\n",
    "  wd.append(weekday)\n",
    "df['wd'] = wd\n",
    "\n",
    "for i in range(len(df)):\n",
    "  key = df.loc[i, '調製者']\n",
    "  df.loc[i, '調製者'] = ph_dict[key]"
   ]
  },
  {
   "cell_type": "code",
   "execution_count": 9,
   "metadata": {},
   "outputs": [],
   "source": [
    "df.to_excel('AddDis調製データ.xlsx', index=False)"
   ]
  },
  {
   "cell_type": "code",
   "execution_count": null,
   "metadata": {},
   "outputs": [],
   "source": []
  }
 ],
 "metadata": {
  "kernelspec": {
   "display_name": "Python 3",
   "language": "python",
   "name": "python3"
  },
  "language_info": {
   "codemirror_mode": {
    "name": "ipython",
    "version": 3
   },
   "file_extension": ".py",
   "mimetype": "text/x-python",
   "name": "python",
   "nbconvert_exporter": "python",
   "pygments_lexer": "ipython3",
   "version": "3.10.2"
  }
 },
 "nbformat": 4,
 "nbformat_minor": 2
}
